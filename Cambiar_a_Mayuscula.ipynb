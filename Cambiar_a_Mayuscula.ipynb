{
  "nbformat": 4,
  "nbformat_minor": 0,
  "metadata": {
    "colab": {
      "provenance": [],
      "authorship_tag": "ABX9TyMsiNGIhQK1lCttyo7QM55d",
      "include_colab_link": true
    },
    "kernelspec": {
      "name": "python3",
      "display_name": "Python 3"
    },
    "language_info": {
      "name": "python"
    }
  },
  "cells": [
    {
      "cell_type": "markdown",
      "metadata": {
        "id": "view-in-github",
        "colab_type": "text"
      },
      "source": [
        "<a href=\"https://colab.research.google.com/github/l24590562-cyber/CambiarAMayusculaLaPrimeraLetraUnidad1/blob/main/Cambiar_a_Mayuscula.ipynb\" target=\"_parent\"><img src=\"https://colab.research.google.com/assets/colab-badge.svg\" alt=\"Open In Colab\"/></a>"
      ]
    },
    {
      "cell_type": "code",
      "execution_count": null,
      "metadata": {
        "id": "yOPIr6OJXfnk"
      },
      "outputs": [],
      "source": [
        "#Instituto Tecnológico de san Juan del Rio / Tecnológico Nacional de México\n",
        "#Brenda Avila Gutierrez\n",
        "#Ingenieria en Sistemas Computacionales\n",
        "#Estructura de datos\n",
        "#Grupo \"C\"\n",
        "#Practica 14, Cambiar a mayuscula la primera letra.\n",
        "\n",
        "def cambiar_mayusculas(n, lista):\n",
        "    if n == 0:\n",
        "        return\n",
        "    else:\n",
        "        cadena = lista[n - 1]\n",
        "        palabras = cadena.split()\n",
        "        nueva_cadena = \" \".join(p.capitalize() for p in palabras)\n",
        "        lista[n - 1] = nueva_cadena\n",
        "        cambiar_mayusculas(n - 1, lista)\n",
        "\n",
        "\n",
        "# ----- Entrada de datos -----#\n",
        "print(\"\\n\\n ((:======= Bienvenidos a nuestro programa =======:))\\n\\n\")\n",
        "lista = []\n",
        "n = int(input(\"\\n¿Cuántas cadenas de texto vas a ingresar?: \\n\"))\n",
        "\n",
        "for i in range(n):\n",
        "    cadena = input(\"\\n Ingresa una cadena: \")\n",
        "    lista.append(cadena)\n",
        "\n",
        "# ---------- Ejecutar ---------#\n",
        "cambiar_mayusculas(n, lista)\n",
        "\n",
        "# ----- Mostrar resultado -----#\n",
        "print(\"\\nCadenas con mayúsculas al inicio de cada palabra:\")\n",
        "for texto in lista:\n",
        "    print(texto)\n",
        "print(\"\\n\\n ((: ----- Gracias por utilizar nuestro programa -----:))\\n\\n\")"
      ]
    }
  ]
}